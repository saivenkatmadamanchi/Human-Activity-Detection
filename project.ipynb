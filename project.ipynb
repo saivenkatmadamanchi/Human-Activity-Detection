{
  "nbformat": 4,
  "nbformat_minor": 0,
  "metadata": {
    "colab": {
      "private_outputs": true,
      "provenance": []
    },
    "kernelspec": {
      "name": "python3",
      "display_name": "Python 3"
    },
    "language_info": {
      "name": "python"
    }
  },
  "cells": [
    {
      "cell_type": "markdown",
      "source": [
        "## ***FDA Project_2 : Group - 7***\n",
        "\n",
        "**Members:**\n",
        "\n",
        "1) Akilesh Vishnu Mohan Raj\n",
        "\n",
        "2) Sai Venkat Madamanchi\n",
        "\n",
        "3) Jayanth Sai Karri"
      ],
      "metadata": {
        "id": "k8LK7_Mv74D-"
      }
    },
    {
      "cell_type": "code",
      "execution_count": null,
      "metadata": {
        "id": "mcmwhmzHH2fs"
      },
      "outputs": [],
      "source": [
        "#Installs Python ts2vg package to build visibility graphs from time series data.\n",
        "!pip install ts2vg"
      ]
    },
    {
      "cell_type": "code",
      "source": [
        "#Installs igraph which is a library collection for creating and manipulating graphs and analyzing networks\n",
        "!pip install igraph"
      ],
      "metadata": {
        "id": "BvVz02VeH7PH"
      },
      "execution_count": null,
      "outputs": []
    },
    {
      "cell_type": "code",
      "source": [
        "#import libraries\n",
        "import pandas as pd\n",
        "import matplotlib.pyplot as plt\n",
        "from ts2vg import NaturalVG\n",
        "from ts2vg import HorizontalVG\n",
        "import numpy as np"
      ],
      "metadata": {
        "id": "_V3YUOoxCg0X"
      },
      "execution_count": null,
      "outputs": []
    },
    {
      "cell_type": "code",
      "source": [
        "# To mount Google Drive\n",
        "from google.colab import drive \n",
        "drive.mount('/content/drive')"
      ],
      "metadata": {
        "id": "tgWDW7UGID62"
      },
      "execution_count": null,
      "outputs": []
    },
    {
      "cell_type": "markdown",
      "source": [
        "# **Task 1** "
      ],
      "metadata": {
        "id": "jajYkgwpRSQD"
      }
    },
    {
      "cell_type": "code",
      "source": [
        "# lists are declared for reading the required data as mentioned in the Question\n",
        "activities = ['climbingdown', 'climbingup', 'walking', 'running']\n",
        "body_part = ['chest', 'head']\n",
        "axis = ['x', 'y', 'z']\n",
        "methods = ['NVG', 'HVG']\n",
        "result_task1 = pd.DataFrame(columns=['Method','Subject', 'Accelerometer_axis',\n",
        "                                'Average_degree','Network_diameter',\n",
        "                                'Average_path_length', 'Body_part' ,\n",
        "                                'Activity'])\n",
        "# to read the required activities file.\n",
        "for activity in activities:\n",
        "    # to read the required body parts file.\n",
        "    for part in body_part:\n",
        "        # to read the required number of subjects in your case it's 15.\n",
        "        for i in range(1,16):\n",
        "            file_loc = '/content/drive/MyDrive/Subjects/Subject'+str(i)+'/acc_'+activity+'_csv/acc_'+activity+'_'+part+'.csv'\n",
        "            try:\n",
        "                data = pd.read_csv(file_loc)\n",
        "            # to read the file from subfolders and extract data from it\n",
        "            except FileNotFoundError:\n",
        "                    if (i== 4 or i== 13) and activity==\"walking\":\n",
        "                        file_loc = '/content/drive/MyDrive/Subjects/Subject'+str(i)+'/acc_'+activity+'_csv/acc_'+activity+'_2_'+part+'.csv'\n",
        "                        data = pd.read_csv(file_loc)\n",
        "                    else:\n",
        "                        for ij in range(1,4):\n",
        "                            if ij >1:\n",
        "                                file_loc = '/content/drive/MyDrive/Subjects/Subject'+str(i)+'/acc_'+activity+'_csv/'+'acc_'+activity+'_'+str(ij)+'_csv/acc_'+activity+'_'+str(ij)+'_'+part+'.csv'\n",
        "                                data = pd.read_csv(file_loc)\n",
        "                            else:\n",
        "                                file_loc = '/content/drive/MyDrive/Subjects/Subject'+str(i)+'/acc_'+activity+'_csv/'+'acc_'+activity+'_'+str(ij)+'_csv/acc_'+activity+'_'+part+'.csv'\n",
        "                                data = pd.read_csv(file_loc)\n",
        "            # to read the different axis of accelerometer.\n",
        "            for a in axis:\n",
        "                # to get the required values through HVG AND NVG methods.\n",
        "                for method in methods:\n",
        "                    # NVG (natural visibility graph) method\n",
        "                    if method == 'NVG':\n",
        "                        ig_g = NaturalVG()\n",
        "                    # HVG (horizontal visibility graph) method\n",
        "                    else:\n",
        "                        ig_g = HorizontalVG()\n",
        "                    ig_g.build(data['attr_'+str(a)][1000:2048])\n",
        "                    g = ig_g.as_igraph()\n",
        "                    # Appending both method values into data frame result_task1.\n",
        "                    result_task1 = result_task1.append({'Method':method, \n",
        "                                                  'Subject':i,\n",
        "                                                  'Accelerometer_axis':a,\n",
        "                                                  'Average_degree': np.mean(g.degree()),\n",
        "                                                  'Network_diameter':g.diameter(), \n",
        "                                                  'Average_path_length':g.average_path_length(),\n",
        "                                                  'Body_part':part ,\n",
        "                                                  'Activity':activity}, \n",
        "                                                 ignore_index = True)\n",
        "# Result data frame/table.\n",
        "result_task1"
      ],
      "metadata": {
        "id": "b39X_bzlL9MW"
      },
      "execution_count": null,
      "outputs": []
    },
    {
      "cell_type": "code",
      "source": [
        "# The plot for average degree vs network diameter and added colour fill based on Methods. \n",
        "import seaborn as sns\n",
        "sns.scatterplot(data=result_task1,x=\"Average_degree\", y=\"Network_diameter\",hue=\"Method\")"
      ],
      "metadata": {
        "id": "LXgXzbGKUER1"
      },
      "execution_count": null,
      "outputs": []
    },
    {
      "cell_type": "code",
      "source": [
        "# Creating separate dataframes for Walking and Running\n",
        "result1=result_task1.loc[(result_task1['Activity']=='walking')|(result_task1['Activity']=='running')]\n",
        "\n",
        "# Creating separate dataframes for Climbingup and Climbingdown\n",
        "result_1=result_task1.loc[(result_task1['Activity']=='climbingup')|(result_task1['Activity']=='climbingdown')]\n",
        "\n",
        "# Function to Generate Scatter Plots for average degree vs network diameter and coloring the points according to Activities\n",
        "# (doing this for each accelerometer signal and each method (HVH and NVG))\n",
        "def plot_task1(result):\n",
        "    # Differntiating different colours for different Activities\n",
        "    colours = dict({'walking':'green', 'running':'purple','climbingup':'blue', 'climbingdown':'orange'})\n",
        "    # to access each accelerometer signal,method and body part\n",
        "    for axis in result['Accelerometer_axis'].unique():\n",
        "        for method in result['Method'].unique():\n",
        "            for part in result['Body_part'].unique():                \n",
        "                plot_result = result[(result['Accelerometer_axis'] == axis) & (result['Method'] == method) & (result['Body_part'] == part)]\n",
        "                title = 'Scatter plot b/w Average_degree & Network_diameter for axis: '+ str(axis)+ ' and method: ' + str(method) +' for body part: ' + str(part)\n",
        "                plt.title(title)\n",
        "                plt.scatter(plot_result['Average_degree'],plot_result['Network_diameter'], c = plot_result['Activity'].map(colours),label = colours)\n",
        "                plt.legend()\n",
        "                plt.xlabel(\"Average degree\")\n",
        "                plt.ylabel(\"Network diameter\")\n",
        "                plt.show()\n",
        "\n",
        "# Plot for the Activities: Walking and Running\n",
        "plot_task1(result1)\n",
        "\n",
        "# Plot for the Activities: Climbingup and Climbingdown\n",
        "plot_task1(result_1)"
      ],
      "metadata": {
        "id": "YyscBrclUm-D"
      },
      "execution_count": null,
      "outputs": []
    },
    {
      "cell_type": "markdown",
      "source": [
        "# **Scatter Plot using Seaborn FacetGrid Plot to view all charts of the Categories in a single plane.**"
      ],
      "metadata": {
        "id": "fNOlJr4jw-bA"
      }
    },
    {
      "cell_type": "code",
      "source": [
        "result_11=result_task1.loc[(result_task1['Activity']=='walking')|(result_task1['Activity']=='running')]\n",
        "result_HVG_head = result_11.loc[(result_11['Method']=='HVG') & (result_11['Body_part']=='head')]\n",
        "result_HVG_chest = result_11.loc[(result_11['Method']=='HVG') & (result_11['Body_part']=='chest')]\n",
        "result_NVG_head = result_11.loc[(result_11['Method']=='NVG') & (result_11['Body_part']=='head')]\n",
        "result_NVG_chest = result_11.loc[(result_11['Method']=='NVG') & (result_11['Body_part']=='chest')]\n",
        "g = sns.FacetGrid(result_HVG_head, col=\"Accelerometer_axis\", hue=\"Activity\")\n",
        "g.map_dataframe(sns.scatterplot, x=\"Average_degree\", y=\"Network_diameter\")\n",
        "g.add_legend()\n",
        "g.fig.suptitle('HVG Method: Scatter Plot for average degree vs network diameter based on Activity of head ')\n",
        "g = sns.FacetGrid(result_HVG_chest, col=\"Accelerometer_axis\", hue=\"Activity\")\n",
        "g.map_dataframe(sns.scatterplot, x=\"Average_degree\", y=\"Network_diameter\")\n",
        "g.add_legend()\n",
        "g.fig.suptitle('HVG Method: Scatter Plot for average degree vs network diameter based on Activity of chest ')\n",
        "print(\"For NVG method\")\n",
        "g = sns.FacetGrid(result_NVG_head, col=\"Accelerometer_axis\", hue=\"Activity\")\n",
        "g.map_dataframe(sns.scatterplot, x=\"Average_degree\", y=\"Network_diameter\")\n",
        "g.add_legend()\n",
        "g.fig.suptitle('NVG Method: Scatter Plot for average degree vs network diameter based on Activity of head ')\n",
        "g = sns.FacetGrid(result_NVG_chest, col=\"Accelerometer_axis\", hue=\"Activity\")\n",
        "g.map_dataframe(sns.scatterplot, x=\"Average_degree\", y=\"Network_diameter\")\n",
        "g.add_legend()\n",
        "g.fig.suptitle('NVG Method: Scatter Plot for average degree vs network diameter based on Activity of chest ')"
      ],
      "metadata": {
        "id": "6DJDhpExnYiM"
      },
      "execution_count": null,
      "outputs": []
    },
    {
      "cell_type": "markdown",
      "source": [
        "# **Scatter Plot using Seaborn FacetGrid Plot to view all charts of the Categories in a single plane.**"
      ],
      "metadata": {
        "id": "zSGRRc-rxjn4"
      }
    },
    {
      "cell_type": "code",
      "source": [
        "result_22=result_task1.loc[(result_task1['Activity']=='climbingup')|(result_task1['Activity']=='climbingdown')]\n",
        "result_HVG_head1 = result_22.loc[(result_22['Method']=='HVG') & (result_22['Body_part']=='head')]\n",
        "result_HVG_chest1 = result_22.loc[(result_22['Method']=='HVG') & (result_22['Body_part']=='chest')]\n",
        "result_NVG_head1 = result_22.loc[(result_22['Method']=='NVG') & (result_22['Body_part']=='head')]\n",
        "result_NVG_chest1 = result_22.loc[(result_22['Method']=='NVG') & (result_22['Body_part']=='chest')]\n",
        "g = sns.FacetGrid(result_HVG_head1, col=\"Accelerometer_axis\", hue=\"Activity\")\n",
        "g.map_dataframe(sns.scatterplot, x=\"Average_degree\", y=\"Network_diameter\")\n",
        "g.add_legend()\n",
        "g.fig.suptitle('HVG Method: Scatter Plot for average degree vs network diameter based on Activity of head ')\n",
        "g = sns.FacetGrid(result_HVG_chest1, col=\"Accelerometer_axis\", hue=\"Activity\")\n",
        "g.map_dataframe(sns.scatterplot, x=\"Average_degree\", y=\"Network_diameter\")\n",
        "g.add_legend()\n",
        "g.fig.suptitle('HVG Method: Scatter Plot for average degree vs network diameter based on Activity of chest ')\n",
        "g = sns.FacetGrid(result_NVG_head1, col=\"Accelerometer_axis\", hue=\"Activity\")\n",
        "g.map_dataframe(sns.scatterplot, x=\"Average_degree\", y=\"Network_diameter\")\n",
        "g.add_legend()\n",
        "g.fig.suptitle('NVG Method: Scatter Plot for average degree vs network diameter based on Activity of head ')\n",
        "g = sns.FacetGrid(result_NVG_chest1, col=\"Accelerometer_axis\", hue=\"Activity\")\n",
        "g.map_dataframe(sns.scatterplot, x=\"Average_degree\", y=\"Network_diameter\")\n",
        "g.add_legend()\n",
        "g.fig.suptitle('NVG Method: Scatter Plot for average degree vs network diameter based on Activity of chest ')"
      ],
      "metadata": {
        "id": "Cf3Dr5lAoL1K"
      },
      "execution_count": null,
      "outputs": []
    },
    {
      "cell_type": "markdown",
      "source": [
        "# **TASK-2**"
      ],
      "metadata": {
        "id": "geTjhL7RqAH8"
      }
    },
    {
      "cell_type": "code",
      "source": [
        "# Function Credits: Professor Sri Radhakrishnan Git hub Repository (Professor has recommended to use the functions already build available on Github)\n",
        "\n",
        "''' This module has essential functions supporting\n",
        "fast and effective computation of permutation entropy and\n",
        "its different variations.'''\n",
        "import numpy as np\n",
        "\n",
        "\n",
        "def s_entropy(freq_list):\n",
        "    ''' This function computes the shannon entropy of a given frequency distribution.\n",
        "    USAGE: shannon_entropy(freq_list)\n",
        "    ARGS: freq_list = Numeric vector representing the frequency distribution\n",
        "    OUTPUT: A numeric value representing shannon's entropy'''\n",
        "    freq_list = [element for element in freq_list if element != 0]\n",
        "    sh_entropy = 0.0\n",
        "    for freq in freq_list:\n",
        "        sh_entropy += freq * np.log(freq)\n",
        "    sh_entropy = -sh_entropy\n",
        "    return(sh_entropy)\n",
        "\n",
        "def ordinal_patterns(ts, embdim, embdelay):\n",
        "    ''' This function computes the ordinal patterns of a time series for a given embedding dimension and embedding delay.\n",
        "    USAGE: ordinal_patterns(ts, embdim, embdelay)\n",
        "    ARGS: ts = Numeric vector representing the time series, embdim = embedding dimension (3<=embdim<=7 prefered range), embdelay =  embdding delay\n",
        "    OUPTUT: A numeric vector representing frequencies of ordinal patterns'''\n",
        "    m, t = embdim, embdelay\n",
        "    x = ts if isinstance(ts, np.ndarray) else np.array(ts) \n",
        "\n",
        "    tmp = np.zeros((x.shape[0], m))\n",
        "    for i in range(m):\n",
        "        tmp[:, i] = np.roll(x, i*t)\n",
        "    partition = tmp[(t*m-1):, :] \n",
        "    permutation = np.argsort(partition)\n",
        "    idx = _hash(permutation)\n",
        "\n",
        "    counts = np.zeros(np.math.factorial(m))\n",
        "    for i in range(counts.shape[0]):\n",
        "        counts[i] = (idx == i).sum()\n",
        "    return list(counts[counts != 0].astype(int))\n",
        "\n",
        "def _hash(x):\n",
        "    m, n = x.shape\n",
        "    if n == 1:\n",
        "        return np.zeros(m)\n",
        "    return np.sum(np.apply_along_axis(lambda y: y < x[:, 0], 0, x), axis=1) * np.math.factorial(n-1) + _hash(x[:, 1:]) \n",
        "    \n",
        "\n",
        "def p_entropy(op):\n",
        "    ordinal_pat = op\n",
        "    max_entropy = np.log(len(ordinal_pat))\n",
        "    p = np.divide(np.array(ordinal_pat), float(sum(ordinal_pat)))\n",
        "    return(s_entropy(p)/max_entropy)\n",
        "\n",
        "def complexity(op):\n",
        "    ''' This function computes the complexity of a time series defined as: Comp_JS = Q_o * JSdivergence * pe\n",
        "    Q_o = Normalizing constant\n",
        "    JSdivergence = Jensen-Shannon divergence\n",
        "    pe = permutation entopry\n",
        "    ARGS: ordinal pattern'''\n",
        "    pe = p_entropy(op)\n",
        "    constant1 = (0.5+((1 - 0.5)/len(op)))* np.log(0.5+((1 - 0.5)/len(op)))\n",
        "    constant2 = ((1 - 0.5)/len(op))*np.log((1 - 0.5)/len(op))*(len(op) - 1)\n",
        "    constant3 = 0.5*np.log(len(op))\n",
        "    Q_o = -1/(constant1+constant2+constant3)\n",
        "\n",
        "    temp_op_prob = np.divide(op, sum(op))\n",
        "    temp_op_prob2 = (0.5*temp_op_prob)+(0.5*(1/len(op)))\n",
        "    JSdivergence = (s_entropy(temp_op_prob2) - 0.5 * s_entropy(temp_op_prob) - 0.5 * np.log(len(op)))\n",
        "    Comp_JS = Q_o * JSdivergence * pe\n",
        "    return(Comp_JS)\n",
        "\n",
        "def weighted_ordinal_patterns(ts, embdim, embdelay):\n",
        "    m, t = embdim, embdelay\n",
        "    x = ts if isinstance(ts, np.ndarray) else np.array(ts) \n",
        "\n",
        "    tmp = np.zeros((x.shape[0], m))\n",
        "    for i in range(m):\n",
        "        tmp[:, i] = np.roll(x, i*t)\n",
        "    partition = tmp[(t*m-1):, :] \n",
        "    xm = np.mean(partition, axis=1)\n",
        "    weight = np.mean((partition - xm[:, None])**2, axis=1)\n",
        "    permutation = np.argsort(partition)\n",
        "    idx = _hash(permutation)\n",
        "    counts = np.zeros(np.math.factorial(m))\n",
        "    for i in range(counts.shape[0]):\n",
        "        counts[i] = sum(weight[i == idx])\n",
        "\n",
        "    return list(counts[counts != 0]) "
      ],
      "metadata": {
        "id": "VdGUfvqQp-kN"
      },
      "execution_count": null,
      "outputs": []
    },
    {
      "cell_type": "code",
      "source": [
        "#To find permutation entropy and complexity for each axis and at 3 differernt signals per each activity and per each subject\n",
        "\n",
        "# lists are declared for reading the required data as mentioned in the Question\n",
        "signal_length = [1024,2048,4096]\n",
        "body_part_1 = ['head','chest']\n",
        "Embedded_Delays = [1,2,3]\n",
        "Embedded_Dimensions = [3,4,5,6]\n",
        "activities = ['climbingdown', 'climbingup', 'walking', 'running']\n",
        "axis = ['x','y','z']\n",
        "\n",
        "# Creating empty Dataframe with attributs to append the findings\n",
        "result_task2 = pd.DataFrame(columns=['Subject','Accelerometer_axis', 'Signal_length', 'Dimension', 'Delay', 'Permutation_entropy','Complexity','Body_part', 'Activity'])\n",
        "\n",
        "# to read the required activities file\n",
        "for activity in activities:\n",
        "    # to read the required body parts file\n",
        "    for body in body_part_1:\n",
        "        # to read the required number of subjects in your case it's 15\n",
        "        for i in range(1,16):\n",
        "            file_loc='/content/drive/MyDrive/Subjects/Subject'+str(i)+'/acc_'+activity+'_csv/acc_'+activity+'_'+body+'.csv'\n",
        "            try:\n",
        "                data = pd.read_csv(file_loc)\n",
        "            # to read the file from subfolders and extract data from it\n",
        "            except FileNotFoundError:\n",
        "                if (i== 4 or i== 13) and activity==\"walking\":\n",
        "                    file_loc = '/content/drive/MyDrive/Subjects/Subject'+str(i)+'/acc_'+activity+'_csv/acc_'+activity+'_2_'+body+'.csv'\n",
        "                    data = pd.read_csv(file_loc)\n",
        "                else:\n",
        "                    for ij in range(1,4):\n",
        "                        if ij >1:\n",
        "                            file_loc = '/content/drive/MyDrive/Subjects/Subject'+str(i)+'/acc_'+activity+'_csv/'+'acc_'+activity+'_'+str(ij)+'_csv/acc_'+activity+'_'+str(ij)+'_'+body+'.csv'\n",
        "                            data = pd.read_csv(file_loc)\n",
        "                        else:\n",
        "                            file_loc = '/content/drive/MyDrive/Subjects/Subject'+str(i)+'/acc_'+activity+'_csv/'+'acc_'+activity+'_'+str(ij)+'_csv/acc_'+activity+'_'+body+'.csv'\n",
        "                            data = pd.read_csv(file_loc)\n",
        "            # To read different signal lengths\n",
        "            for length in signal_length:\n",
        "                data1 = data[1000:(1000+length+1)]\n",
        "                # to read the different axis of accelerometer\n",
        "                for ax in axis:\n",
        "                    # to read the Embedded Dimension Values\n",
        "                    for dimension in Embedded_Dimensions:\n",
        "                        # to read the Embedded Delay Values\n",
        "                        for delay in Embedded_Delays:\n",
        "                            op = ordinal_patterns(data1['attr_'+str(ax)],dimension,delay)\n",
        "                            npe = p_entropy(op)\n",
        "                            ncomp = complexity(op)\n",
        "                            result_task2 = result_task2.append({'Subject':i,'Accelerometer_axis':ax, 'Signal_length':length, 'Dimension':dimension, 'Delay':delay, 'Permutation_entropy':npe,'Complexity':ncomp,'Body_part':body, 'Activity':activity}, ignore_index=True)\n",
        "\n",
        "# Result data frame/table.\n",
        "result_task2"
      ],
      "metadata": {
        "id": "_FX6BvAs4e7Q"
      },
      "execution_count": null,
      "outputs": []
    },
    {
      "cell_type": "code",
      "source": [
        "# Generating Scatter plots based on the below conditions as per the Task Requirement:\n",
        "\n",
        "#1) Signal length =4096\n",
        "#2) Embedded delay = 1\n",
        "#3) Embedded dimension = 3, 4, 5, 6\n",
        "#4) All three accelerometer directions\n",
        "\n",
        "# Creating Dataframe for the Activities walking and running and Embedded delay = 1\n",
        "results_2 = result_task2.loc[(result_task2['Activity']=='walking')|(result_task2['Activity']=='running')]\n",
        "results2 = results_2.loc[(results_2['Delay']== 1)]\n",
        "\n",
        "# Creating Dataframe for the Activities climbingup and climbingdown and Embedded delay = 1\n",
        "results_3 = result_task2.loc[(result_task2['Activity']=='climbingup')|(result_task2['Activity']=='climbingdown')]\n",
        "results3 = results_3.loc[(results_3['Delay']== 1)]\n",
        "\n",
        "# Function to Generate Scatter Plots for permutation entropy vs complexity and coloring the points according to Activities\n",
        "def plot(result):\n",
        "    colours = dict({'walking':'orange', 'running':'purple', 'climbingup':'green', 'climbingdown':'blue'})\n",
        "    for axis in result['Accelerometer_axis'].unique():\n",
        "        for dimension in result['Dimension'].unique():\n",
        "            for part in result['Body_part'].unique():\n",
        "                plot_result = result[(result['Accelerometer_axis'] == axis) & (result['Dimension'] == dimension ) & (result['Body_part'] == part) & (result['Signal_length']== 4096)]\n",
        "                title = 'Scatter plot b/w Permutation_entropy & Network_diameter for axis: '+ str(axis)+ ' and Dimension: ' + str(dimension) +' for body part: ' + str(part)\n",
        "                plt.title(title)\n",
        "                plt.scatter(plot_result['Permutation_entropy'],plot_result['Complexity'], c = plot_result['Activity'].map(colours),label= colours)\n",
        "                plt.legend()\n",
        "                plt.xlabel(\"Permutation_entropy\")\n",
        "                plt.ylabel(\"Complexity\")\n",
        "                plt.show()\n",
        "\n",
        "# Plot for the Activities: Walking and Running\n",
        "plot(results2)\n",
        "\n",
        "# Plot for the Activities: Climbingup and Climbingdown\n",
        "plot(results3)"
      ],
      "metadata": {
        "id": "EkIaa1UEvfsc"
      },
      "execution_count": null,
      "outputs": []
    },
    {
      "cell_type": "markdown",
      "source": [
        "# **Scatter Plot using Seaborn FacetGrid Plot to view all charts of the Categories in a single plane.**"
      ],
      "metadata": {
        "id": "MLEynpz4yFNR"
      }
    },
    {
      "cell_type": "code",
      "source": [
        "result_x= results2.loc[(results2['Accelerometer_axis']=='x') & (results2['Signal_length']==4096) & (results2['Body_part']=='head')]\n",
        "g = sns.FacetGrid(result_x, col=\"Dimension\", hue=\"Activity\")\n",
        "g.map_dataframe(sns.scatterplot, x=\"Permutation_entropy\", y=\"Complexity\")\n",
        "g.fig.suptitle('Scatter Plot for permutation entropy vs complexity based on Activity of head in x axis ')\n",
        "g.add_legend()\n",
        "result_y= results2.loc[(results2['Accelerometer_axis']=='y') & (results2['Signal_length']==4096) & (results2['Body_part']=='head')]\n",
        "g = sns.FacetGrid(result_y, col=\"Dimension\", hue=\"Activity\")\n",
        "g.map_dataframe(sns.scatterplot, x=\"Permutation_entropy\", y=\"Complexity\")\n",
        "g.fig.suptitle('Scatter Plot for permutation entropy vs complexity based on Activity of head in y axis')\n",
        "g.add_legend()\n",
        "result_z= results2.loc[(results2['Accelerometer_axis']=='z') & (results2['Signal_length']==4096) & (results2['Body_part']=='head')]\n",
        "g = sns.FacetGrid(result_z, col=\"Dimension\", hue=\"Activity\")\n",
        "g.map_dataframe(sns.scatterplot, x=\"Permutation_entropy\", y=\"Complexity\")\n",
        "g.fig.suptitle('Scatter Plot for permutation entropy vs complexity based on Activity of head in z axis')\n",
        "g.add_legend()"
      ],
      "metadata": {
        "id": "VGpEN5xoqQMD"
      },
      "execution_count": null,
      "outputs": []
    },
    {
      "cell_type": "markdown",
      "source": [
        "# **Scatter Plot using Seaborn FacetGrid Plot to view all charts of the Categories in a single plane.**"
      ],
      "metadata": {
        "id": "9UW7B3wUyIyz"
      }
    },
    {
      "cell_type": "code",
      "source": [
        "result_x1= results2.loc[(results2['Accelerometer_axis']=='x') & (results2['Signal_length']==4096) & (results2['Body_part']=='chest')]\n",
        "g = sns.FacetGrid(result_x1, col=\"Dimension\", hue=\"Activity\")\n",
        "g.map_dataframe(sns.scatterplot, x=\"Permutation_entropy\", y=\"Complexity\")\n",
        "g.fig.suptitle('Scatter Plot for permutation entropy vs complexity based on Activity of chest in x axis ')\n",
        "g.add_legend()\n",
        "result_y1= results2.loc[(results2['Accelerometer_axis']=='y') & (results2['Signal_length']==4096) & (results2['Body_part']=='chest')]\n",
        "g = sns.FacetGrid(result_y1, col=\"Dimension\", hue=\"Activity\")\n",
        "g.map_dataframe(sns.scatterplot, x=\"Permutation_entropy\", y=\"Complexity\")\n",
        "g.fig.suptitle('Scatter Plot for permutation entropy vs complexity based on Activity of chest in y axis')\n",
        "g.add_legend()\n",
        "result_z1= results2.loc[(results2['Accelerometer_axis']=='z') & (results2['Signal_length']==4096) & (results2['Body_part']=='chest')]\n",
        "g = sns.FacetGrid(result_z1, col=\"Dimension\", hue=\"Activity\")\n",
        "g.map_dataframe(sns.scatterplot, x=\"Permutation_entropy\", y=\"Complexity\")\n",
        "g.fig.suptitle('Scatter Plot for permutation entropy vs complexity based on Activity of chest in z axis')\n",
        "g.add_legend()"
      ],
      "metadata": {
        "id": "GkEezc9Nuvjs"
      },
      "execution_count": null,
      "outputs": []
    },
    {
      "cell_type": "markdown",
      "source": [
        "# **Scatter Plot using Seaborn FacetGrid Plot to view all charts of the Categories in a single plane.**"
      ],
      "metadata": {
        "id": "6fU3W8qFybVb"
      }
    },
    {
      "cell_type": "code",
      "source": [
        "result_x2= results3.loc[(results3['Accelerometer_axis']=='x') & (results3['Signal_length']==4096) & (results3['Body_part']=='head')]\n",
        "g = sns.FacetGrid(result_x2, col=\"Dimension\", hue=\"Activity\")\n",
        "g.map_dataframe(sns.scatterplot, x=\"Permutation_entropy\", y=\"Complexity\")\n",
        "g.fig.suptitle('Scatter Plot for permutation entropy vs complexity based on Activity of head in x axis ')\n",
        "g.add_legend()\n",
        "result_y2= results3.loc[(results3['Accelerometer_axis']=='y') & (results3['Signal_length']==4096) & (results3['Body_part']=='head')]\n",
        "g = sns.FacetGrid(result_y2, col=\"Dimension\", hue=\"Activity\")\n",
        "g.map_dataframe(sns.scatterplot, x=\"Permutation_entropy\", y=\"Complexity\")\n",
        "g.fig.suptitle('Scatter Plot for permutation entropy vs complexity based on Activity of head in y axis')\n",
        "g.add_legend()\n",
        "result_z2= results3.loc[(results3['Accelerometer_axis']=='z') & (results3['Signal_length']==4096) & (results3['Body_part']=='head')]\n",
        "g = sns.FacetGrid(result_z2, col=\"Dimension\", hue=\"Activity\")\n",
        "g.map_dataframe(sns.scatterplot, x=\"Permutation_entropy\", y=\"Complexity\")\n",
        "g.fig.suptitle('Scatter Plot for permutation entropy vs complexity based on Activity of head in z axis')\n",
        "g.add_legend()"
      ],
      "metadata": {
        "id": "YTkOUB8wvQzT"
      },
      "execution_count": null,
      "outputs": []
    },
    {
      "cell_type": "markdown",
      "source": [
        "# **Scatter Plot using Seaborn FacetGrid Plot to view all charts of the Categories in a single plane.**"
      ],
      "metadata": {
        "id": "MMYxZW7zyd6Z"
      }
    },
    {
      "cell_type": "code",
      "source": [
        "result_x3= results3.loc[(results3['Accelerometer_axis']=='x') & (results3['Signal_length']==4096) & (results3['Body_part']=='chest')]\n",
        "g = sns.FacetGrid(result_x1, col=\"Dimension\", hue=\"Activity\")\n",
        "g.map_dataframe(sns.scatterplot, x=\"Permutation_entropy\", y=\"Complexity\")\n",
        "g.fig.suptitle('Scatter Plot for permutation entropy vs complexity based on Activity of chest in x axis ')\n",
        "g.add_legend()\n",
        "result_y3= results3.loc[(results3['Accelerometer_axis']=='y') & (results3['Signal_length']==4096) & (results3['Body_part']=='chest')]\n",
        "g = sns.FacetGrid(result_y3, col=\"Dimension\", hue=\"Activity\")\n",
        "g.map_dataframe(sns.scatterplot, x=\"Permutation_entropy\", y=\"Complexity\")\n",
        "g.fig.suptitle('Scatter Plot for permutation entropy vs complexity based on Activity of chest in y axis')\n",
        "g.add_legend()\n",
        "result_z3= results3.loc[(results3['Accelerometer_axis']=='z') & (results3['Signal_length']==4096) & (results3['Body_part']=='chest')]\n",
        "g = sns.FacetGrid(result_z3, col=\"Dimension\", hue=\"Activity\")\n",
        "g.map_dataframe(sns.scatterplot, x=\"Permutation_entropy\", y=\"Complexity\")\n",
        "g.fig.suptitle('Scatter Plot for permutation entropy vs complexity based on Activity of chest in z axis')\n",
        "g.add_legend()"
      ],
      "metadata": {
        "id": "n4B1Ki67vxT7"
      },
      "execution_count": null,
      "outputs": []
    }
  ]
}